{
 "cells": [
  {
   "cell_type": "markdown",
   "id": "e513f299",
   "metadata": {},
   "source": [
    "# Q1. What is the purpose of Python&#39;s OOP?"
   ]
  },
  {
   "cell_type": "code",
   "execution_count": null,
   "id": "541bb9cd",
   "metadata": {},
   "outputs": [],
   "source": [
    "OOP means object oriented programming language which is basically deals with class object. the purpose of this concept to make programming very sysmetic and efficiant."
   ]
  },
  {
   "cell_type": "markdown",
   "id": "69e3bbc6",
   "metadata": {},
   "source": [
    "# Q2. Where does an inheritance search look for an attribute?"
   ]
  },
  {
   "cell_type": "code",
   "execution_count": null,
   "id": "a04d4fc6",
   "metadata": {},
   "outputs": [],
   "source": [
    "the inheritance search is simply a search of the tree from bottom to top looking for the lowest occurrence of an attribute name."
   ]
  },
  {
   "cell_type": "markdown",
   "id": "cc98da89",
   "metadata": {},
   "source": [
    "# Q3. How do you distinguish between a class object and an instance object?"
   ]
  },
  {
   "cell_type": "code",
   "execution_count": null,
   "id": "feab7815",
   "metadata": {},
   "outputs": [],
   "source": [
    "In simple words, Instance refers to the copy of the object at a particular time whereas object refers to the memory address of the class"
   ]
  },
  {
   "cell_type": "markdown",
   "id": "1ba31012",
   "metadata": {},
   "source": [
    "# Q4. What makes the first argument in a class’s method function special?"
   ]
  },
  {
   "cell_type": "code",
   "execution_count": null,
   "id": "fb5109d1",
   "metadata": {},
   "outputs": [],
   "source": [
    "self"
   ]
  },
  {
   "cell_type": "markdown",
   "id": "d4a3ff00",
   "metadata": {},
   "source": [
    "# Q5. What is the purpose of the __init__ method?"
   ]
  },
  {
   "cell_type": "code",
   "execution_count": null,
   "id": "5989fd36",
   "metadata": {},
   "outputs": [],
   "source": [
    "it is special type of method which is also known as constructor. its purpose is simple when object will created its calles automatically, and in one class only one __init__ allowed"
   ]
  },
  {
   "cell_type": "markdown",
   "id": "5691ba9c",
   "metadata": {},
   "source": [
    "# Q6. What is the process for creating a class instance?"
   ]
  },
  {
   "cell_type": "code",
   "execution_count": null,
   "id": "ee125d68",
   "metadata": {},
   "outputs": [],
   "source": [
    "for retrivind the properties or functions from class we need to create class instance."
   ]
  },
  {
   "cell_type": "markdown",
   "id": "2c474692",
   "metadata": {},
   "source": [
    "# Q7. What is the process for creating a class?"
   ]
  },
  {
   "cell_type": "code",
   "execution_count": null,
   "id": "2bda5402",
   "metadata": {},
   "outputs": [],
   "source": [
    "A class is a blue print which defines the object , and due to this we easilt understand which object is belongs to which class."
   ]
  },
  {
   "cell_type": "markdown",
   "id": "3d77be42",
   "metadata": {},
   "source": [
    "# Q8. How would you define the superclasses of a class?"
   ]
  },
  {
   "cell_type": "code",
   "execution_count": null,
   "id": "5d4bb31f",
   "metadata": {},
   "outputs": [],
   "source": [
    "A superclass is the class from which many subclasses can be created. The subclasses inherit the characteristics of a superclass."
   ]
  }
 ],
 "metadata": {
  "kernelspec": {
   "display_name": "Python 3",
   "language": "python",
   "name": "python3"
  },
  "language_info": {
   "codemirror_mode": {
    "name": "ipython",
    "version": 3
   },
   "file_extension": ".py",
   "mimetype": "text/x-python",
   "name": "python",
   "nbconvert_exporter": "python",
   "pygments_lexer": "ipython3",
   "version": "3.8.8"
  }
 },
 "nbformat": 4,
 "nbformat_minor": 5
}
